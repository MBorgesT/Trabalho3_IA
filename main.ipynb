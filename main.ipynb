{
 "cells": [
  {
   "cell_type": "code",
   "execution_count": 9,
   "metadata": {},
   "outputs": [
    {
     "name": "stdout",
     "output_type": "stream",
     "text": [
      "['ID', 'sepallength', 'sepalwidth', 'petallength', 'petalwidth', 'class']\n",
      "150\n",
      "[['1' '5.1' '3.5' '1.4' '0.2' 'Iris-setosa']\n",
      " ['2' '4.9' '3.0' '1.4' '0.2' 'Iris-setosa']\n",
      " ['3' '4.7' '3.2' '1.3' '0.2' 'Iris-setosa']\n",
      " ['4' '4.6' '3.1' '1.5' '0.2' 'Iris-setosa']\n",
      " ['5' '5.0' '3.6' '1.4' '0.2' 'Iris-setosa']\n",
      " ['6' '5.4' '3.9' '1.7' '0.4' 'Iris-setosa']\n",
      " ['7' '4.6' '3.4' '1.4' '0.3' 'Iris-setosa']\n",
      " ['8' '5.0' '3.4' '1.5' '0.2' 'Iris-setosa']\n",
      " ['9' '4.4' '2.9' '1.4' '0.2' 'Iris-setosa']\n",
      " ['10' '4.9' '3.1' '1.5' '0.1' 'Iris-setosa']]\n",
      "3.5\n"
     ]
    }
   ],
   "source": [
    "import numpy as np\n",
    "\n",
    "class DataFrame:\n",
    "    \n",
    "    def __init__(self, file_path):\n",
    "        self.columns, self.values = self.__read_csv(file_path)\n",
    "        \n",
    "    def __read_csv(self, file_path):\n",
    "        with open(file_path, 'r') as f:\n",
    "            lines = f.readlines()\n",
    "        \n",
    "        columns = lines[0].replace('\\n', '').split(',')\n",
    "        values = np.asarray([l.replace('\\n', '').split(',') for l in lines[1:]])\n",
    "        \n",
    "        return columns, values\n",
    "\n",
    "df = DataFrame(file_path='datasets/iris.csv')\n",
    "print(df.columns)\n",
    "print(len(df.values))\n",
    "print(df.values[:10])"
   ]
  },
  {
   "cell_type": "code",
   "execution_count": null,
   "metadata": {},
   "outputs": [],
   "source": [
    "def p(v):\n",
    "    pass\n",
    "\n",
    "def entropy(values):\n",
    "    return sum([-p(v) * np.log2(v) for v in values])"
   ]
  }
 ],
 "metadata": {
  "interpreter": {
   "hash": "521bd52f7db69f83952e45c69a41cc5a9312142da056b7c563e70a654200e62d"
  },
  "kernelspec": {
   "display_name": "Python 3.9.5 ('base')",
   "language": "python",
   "name": "python3"
  },
  "language_info": {
   "codemirror_mode": {
    "name": "ipython",
    "version": 3
   },
   "file_extension": ".py",
   "mimetype": "text/x-python",
   "name": "python",
   "nbconvert_exporter": "python",
   "pygments_lexer": "ipython3",
   "version": "3.9.5"
  },
  "orig_nbformat": 4
 },
 "nbformat": 4,
 "nbformat_minor": 2
}
